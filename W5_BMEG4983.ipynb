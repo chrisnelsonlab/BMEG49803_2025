{
  "nbformat": 4,
  "nbformat_minor": 0,
  "metadata": {
    "colab": {
      "provenance": [],
      "authorship_tag": "ABX9TyNaBsgMK/2FWEFWsdxO71Ts",
      "include_colab_link": true
    },
    "kernelspec": {
      "name": "python3",
      "display_name": "Python 3"
    },
    "language_info": {
      "name": "python"
    }
  },
  "cells": [
    {
      "cell_type": "markdown",
      "metadata": {
        "id": "view-in-github",
        "colab_type": "text"
      },
      "source": [
        "<a href=\"https://colab.research.google.com/github/chrisnelsonlab/BMEG49803_2025/blob/main/W5_BMEG4983.ipynb\" target=\"_parent\"><img src=\"https://colab.research.google.com/assets/colab-badge.svg\" alt=\"Open In Colab\"/></a>"
      ]
    },
    {
      "cell_type": "markdown",
      "source": [
        "<img src=https://brand.uark.edu/_resources/images/UA_Logo_Horizontal.jpg width=\"400\" height=\"96\">\n",
        "\n",
        "####BMEG 4983 - Genome Engineering and Synthetic Biology -\n",
        "####For more information, check out the Nelson lab for Therapeutic Genome Engineering (https://nelsonlab.uark.edu/)\n",
        "\n",
        "For image credits, see the linked URL\n",
        "\n",
        "#5. Data Workshop 5 - Primer design, qPCR, and pandas\n",
        "\n",
        "The goal for today is to be able to design primers for PCR and RT-PCR and be able to do analysis on quantitative PCR\n",
        "\n",
        "Update 3/5/2025"
      ],
      "metadata": {
        "id": "gslN4g8n3uC4"
      }
    },
    {
      "cell_type": "markdown",
      "source": [
        "# 5.1 PCR principle\n",
        "\n",
        "<img src=https://upload.wikimedia.org/wikipedia/commons/a/ab/Polymerase_chain_reaction-en.svg width=\"800\">\n",
        "Credit wiki\n",
        "\n",
        "Polymerase chain reaction works by using a DNA polymerase (copying enzyme), to directly copy a sequence of DNA. Each round, the polymerase enzymes add dNTPs (the nucleotides) extending the primer sequences (a sequence you specify)\n",
        "\n",
        "Each round you (ideally) get 2 times the input. This exponential growth allows us to make a large amount of DNA or detect very rare sequences.\n",
        "\n",
        "The two applications we will discuss today for PCR are:\n",
        "\n",
        "1. **Cloning** - use PCR to make many copies of a sequence that we need to use for bioengineering applications\n",
        "\n",
        "2. **Detection and quantification** - use PCR (or quantitative PCR) to quantify the original number of a specific gene. This can be used to tell you how frequent a specific transcript was inside a group of cells (or other genomics applications).\n",
        "\n"
      ],
      "metadata": {
        "id": "Jl_aW2Vn35l2"
      }
    },
    {
      "cell_type": "markdown",
      "source": [
        "# 5.2 Primer designs for cloning\n",
        "<img src=https://media.addgene.org/data/easy-thumbnails/filer_public/cms/filer_public/f4/a4/f4a45260-23ea-40bc-a7b1-4fc4526abf95/pcr-based-cloning.gif__800.0x346.0_crop_subsampling-2_upscale.png width=\"800\">\n",
        "Credit addgene\n",
        "\n",
        "\n",
        "Molecular cloning can be used to place your gene of interest (YGOI, in figure), into a plasmid DNA that can be transfected into cells to investigate the gene's function.\n",
        "\n",
        "In the figure above, a gene is being moved from a donor plasmid to a recipient plasmid. You can also use PCR to specifically amplify your gene from the RNA of the organism.\n",
        "\n",
        "We can design primers to specifically amplify our gene from the start codon (ATG) to the stop codon. Typically you will leave out the 5' and 3' untranslated regions to conserve space.\n",
        "\n",
        "We will also need to add some sequence information to each side. PCR allows us to add sequence on the 5' end of the primer. You can do this on both the forward and reverse primer. Let's work through an example:\n",
        "\n",
        "\n"
      ],
      "metadata": {
        "id": "2RE7QWjK375b"
      }
    },
    {
      "cell_type": "markdown",
      "source": [
        "## 5.2.1 Primer overhangs for cloning a cDNA\n",
        "\n",
        "Let's work through GAPDH as an example. First we need the cDNA sequence for GAPDH.\n",
        "\n",
        "This is the whole sequence (including UTRs)\n",
        "```\n",
        "GCTCTCTGCTCCTCCTGTTCGACAGTCAGCCGCATCTTCTTTTGCGTCGCCAGCCGAGCC\n",
        "ACATCGCTCAGACACCATGGGGAAGGTGAAGGTCGGAGTCAACGGATTTGGTCGTATTGG\n",
        "GCGCCTGGTCACCAGGGCTGCTTTTAACTCTGGTAAAGTGGATATTGTTGCCATCAATGA\n",
        "CCCCTTCATTGACCTCAACTACATGGTTTACATGTTCCAATATGATTCCACCCATGGCAA\n",
        "ATTCCATGGCACCGTCAAGGCTGAGAACGGGAAGCTTGTCATCAATGGAAATCCCATCAC\n",
        "CATCTTCCAGGAGCGAGATCCCTCCAAAATCAAGTGGGGCGATGCTGGCGCTGAGTACGT\n",
        "CGTGGAGTCCACTGGCGTCTTCACCACCATGGAGAAGGCTGGGGCTCATTTGCAGGGGGG\n",
        "AGCCAAAAGGGTCATCATCTCTGCCCCCTCTGCTGATGCCCCCATGTTCGTCATGGGTGT\n",
        "GAACCATGAGAAGTATGACAACAGCCTCAAGATCATCAGCAATGCCTCCTGCACCACCAA\n",
        "CTGCTTAGCACCCCTGGCCAAGGTCATCCATGACAACTTTGGTATCGTGGAAGGACTCAT\n",
        "GACCACAGTCCATGCCATCACTGCCACCCAGAAGACTGTGGATGGCCCCTCCGGGAAACT\n",
        "GTGGCGTGATGGCCGCGGGGCTCTCCAGAACATCATCCCTGCCTCTACTGGCGCTGCCAA\n",
        "GGCTGTGGGCAAGGTCATCCCTGAGCTGAACGGGAAGCTCACTGGCATGGCCTTCCGTGT\n",
        "CCCCACTGCCAACGTGTCAGTGGTGGACCTGACCTGCCGTCTAGAAAAACCTGCCAAATA\n",
        "TGATGACATCAAGAAGGTGGTGAAGCAGGCGTCGGAGGGCCCCCTCAAGGGCATCCTGGG\n",
        "CTACACTGAGCACCAGGTGGTCTCCTCTGACTTCAACAGCGACACCCACTCCTCCACCTT\n",
        "TGACGCTGGGGCTGGCATTGCCCTCAACGACCACTTTGTCAAGCTCATTTCCTGGTATGA\n",
        "CAACGAATTTGGCTACAGCAACAGGGTGGTGGACCTCATGGCCCACATGGCCTCCAAGGA\n",
        "GTAAGACCCCTGGACCACCAGCCCCAGCAAGAGCACAAGAGGAAGAGAGAGACCCTCACT\n",
        "GCTGGGGAGTCCCTGCCACACTCAGTCCCCCACCACACTGAATCTCCCCTCCTCACAGTT\n",
        "GCCATGTAGACCCCTTGAAGAGGGGAGGGGCCTAGGGAGCCGCACCTTGTCATGTACCAT\n",
        "CAATAAAGTACCCTGTGCTCAACCA\n",
        "```\n",
        "From start codon to stop looks like:\n",
        "```\n",
        "ATGGGGAAGGTGAAGGTCGGAGTCAACGGATTTGGTCGTATTGGGCGCCTGGTCACCAGG\n",
        "GCTGCTTTTAACTCTGGTAAAGTGGATATTGTTGCCATCAATGACCCCTTCATTGACCTC\n",
        "AACTACATGGTTTACATGTTCCAATATGATTCCACCCATGGCAAATTCCATGGCACCGTC\n",
        "AAGGCTGAGAACGGGAAGCTTGTCATCAATGGAAATCCCATCACCATCTTCCAGGAGCGA\n",
        "GATCCCTCCAAAATCAAGTGGGGCGATGCTGGCGCTGAGTACGTCGTGGAGTCCACTGGC\n",
        "GTCTTCACCACCATGGAGAAGGCTGGGGCTCATTTGCAGGGGGGAGCCAAAAGGGTCATC\n",
        "ATCTCTGCCCCCTCTGCTGATGCCCCCATGTTCGTCATGGGTGTGAACCATGAGAAGTAT\n",
        "GACAACAGCCTCAAGATCATCAGCAATGCCTCCTGCACCACCAACTGCTTAGCACCCCTG\n",
        "GCCAAGGTCATCCATGACAACTTTGGTATCGTGGAAGGACTCATGACCACAGTCCATGCC\n",
        "ATCACTGCCACCCAGAAGACTGTGGATGGCCCCTCCGGGAAACTGTGGCGTGATGGCCGC\n",
        "GGGGCTCTCCAGAACATCATCCCTGCCTCTACTGGCGCTGCCAAGGCTGTGGGCAAGGTC\n",
        "ATCCCTGAGCTGAACGGGAAGCTCACTGGCATGGCCTTCCGTGTCCCCACTGCCAACGTG\n",
        "TCAGTGGTGGACCTGACCTGCCGTCTAGAAAAACCTGCCAAATATGATGACATCAAGAAG\n",
        "GTGGTGAAGCAGGCGTCGGAGGGCCCCCTCAAGGGCATCCTGGGCTACACTGAGCACCAG\n",
        "GTGGTCTCCTCTGACTTCAACAGCGACACCCACTCCTCCACCTTTGACGCTGGGGCTGGC\n",
        "ATTGCCCTCAACGACCACTTTGTCAAGCTCATTTCCTGGTATGACAACGAATTTGGCTAC\n",
        "AGCAACAGGGTGGTGGACCTCATGGCCCACATGGCCTCCAAGGAGTAA\n",
        "```\n",
        "\n",
        "Let's look at the area right around the start codon:\n",
        "```\n",
        "TCAGACACC ATG GGG\n",
        "```\n",
        "\n",
        "There is a conserved sequnce motif right before and after the start codon. This is called the Kozak consensus sequence.\n",
        "\n",
        "Here is a weblogo image showing the probability of a base appearing in the Kozak consensus sequence.\n",
        "<img src=https://upload.wikimedia.org/wikipedia/en/1/18/Human_Kozak_context._Version_2.png width=\"600\"> Credit wiki\n",
        "\n",
        "Notice that there is more likely to be a 'G' right after the start codon\n",
        "\n",
        "Also notice that 'ACC' is likely to appear right before. That is consistent with GAPDH that we found above.\n",
        "\n",
        "If we want to maximize expression of our gene, we should make sure to add the Kozak consensus sequence before the start codon.\n",
        "\n",
        "\n",
        "The next thing we need to add is a sequence that we can digest with restriction enzymes. This will depend on the plasmid you are using. Let's use the example provided from the addgene image above. Let's say we want to use EcoRI on the 5' end and NotI on the 3' end. Here is what those enzymes do:\n",
        "\n",
        "\n",
        "<img src=https://www.sigmaaldrich.com/deepweb/content/dam/sigma-aldrich/product5/192/ecor-i.eps/_jcr_content/renditions/ecor-i-medium.jpg width=\"400\">\n",
        "Credit sigmaaldrich\n",
        "\n",
        "\n",
        "<img src=https://www.sigmaaldrich.com/deepweb/content/dam/sigma-aldrich/product7/077/not-i.eps/_jcr_content/renditions/not-i-medium.jpg width=\"400\">\n",
        "Credit sigmaaldrich\n",
        "\n",
        "\n",
        "\n",
        "EcoRI recognizes GAATTC and then makes a cut as the red line shows. That will leave an overhang of 'AATT' that we can use to insert into the plasmid that has been digested with the same enzymes.\n",
        "\n",
        "Last, we may want to add a padding on the end. Some enzymes don't do well with digesting at the very end. We can pad our sequence with something we know. I often use another restriction site. Let's add 'GTTGTT' as padding.\n",
        "\n",
        "So the entire structure of the primers will be:\n",
        "\n",
        "Forward:[GTTGTT][GAATTC][GCCACC][15-20 bp of your gene starting with ATG]\n",
        "\n",
        "Reverse: [GTTGTT][GCGGCCGC][15-20 bp of your gene starting with stop codon going reverse complement]\n",
        "\n",
        "Let's work through an example:\n",
        "\n"
      ],
      "metadata": {
        "id": "peaPazxH3-q5"
      }
    },
    {
      "cell_type": "code",
      "source": [
        "#We need a function to reverse complement a sequence.\n",
        "def reverse_complement(seq):\n",
        "  #Reverse\n",
        "  seq_reverse = seq[::-1]\n",
        "  #complement\n",
        "  seq_RC = seq_reverse.replace('A','t')\n",
        "  seq_RC = seq_RC.replace('T','a')\n",
        "  seq_RC = seq_RC.replace('C','g')\n",
        "  seq_RC = seq_RC.replace('G','c')\n",
        "  seq_RC = seq_RC.upper()\n",
        "  return seq_RC\n",
        "\n",
        "\n",
        "my_cDNA = 'ATGGGGAAGGTGAAGGTCGGAGTCAACGGATTTGGTCGTATTGGGCGCCTGGTCACCAGGGCTGCTTTTAACTCTGGTAAAGTGGATATTGTTGCCATCAATGACCCCTTCATTGACCTCAACTACATGGTTTACATGTTCCAATATGATTCCACCCATGGCAAATTCCATGGCACCGTCAAGGCTGAGAACGGGAAGCTTGTCATCAATGGAAATCCCATCACCATCTTCCAGGAGCGAGATCCCTCCAAAATCAAGTGGGGCGATGCTGGCGCTGAGTACGTCGTGGAGTCCACTGGCGTCTTCACCACCATGGAGAAGGCTGGGGCTCATTTGCAGGGGGGAGCCAAAAGGGTCATCATCTCTGCCCCCTCTGCTGATGCCCCCATGTTCGTCATGGGTGTGAACCATGAGAAGTATGACAACAGCCTCAAGATCATCAGCAATGCCTCCTGCACCACCAACTGCTTAGCACCCCTGGCCAAGGTCATCCATGACAACTTTGGTATCGTGGAAGGACTCATGACCACAGTCCATGCCATCACTGCCACCCAGAAGACTGTGGATGGCCCCTCCGGGAAACTGTGGCGTGATGGCCGCGGGGCTCTCCAGAACATCATCCCTGCCTCTACTGGCGCTGCCAAGGCTGTGGGCAAGGTCATCCCTGAGCTGAACGGGAAGCTCACTGGCATGGCCTTCCGTGTCCCCACTGCCAACGTGTCAGTGGTGGACCTGACCTGCCGTCTAGAAAAACCTGCCAAATATGATGACATCAAGAAGGTGGTGAAGCAGGCGTCGGAGGGCCCCCTCAAGGGCATCCTGGGCTACACTGAGCACCAGGTGGTCTCCTCTGACTTCAACAGCGACACCCACTCCTCCACCTTTGACGCTGGGGCTGGCATTGCCCTCAACGACCACTTTGTCAAGCTCATTTCCTGGTATGACAACGAATTTGGCTACAGCAACAGGGTGGTGGACCTCATGGCCCACATGGCCTCCAAGGAGTAA'\n",
        "primer_length = 15\n",
        "KOZAK= 'GCCACC'\n",
        "\n",
        "ECORI = 'GAATTC'\n",
        "NOTI = 'GCGGCCGC'\n",
        "\n",
        "PADDING = 'GTTGTT'\n",
        "\n",
        "\n",
        "\n",
        "#Now for the reverse primer, we need to reverse complement the sequences\n",
        "my_cDNA_RC = reverse_complement(my_cDNA)\n",
        "\n",
        "\n",
        "#One thing to note is most restriction enzymes read the same backwards and forwards\n",
        "print('EcoRI is '+ECORI)\n",
        "#Reverse\n",
        "EcoRI_RC = reverse_complement(ECORI)\n",
        "print('EcoRI reverse complement is : ' +EcoRI_RC)\n",
        "print('Notice they are the same')\n",
        "print('')\n",
        "NOTI_RC = reverse_complement(NOTI)\n",
        "\n",
        "\n",
        "Forward_primer = PADDING+ECORI+KOZAK+my_cDNA[0:primer_length]\n",
        "Reverse_Primer = PADDING+NOTI_RC+my_cDNA_RC[0:primer_length]\n",
        "\n",
        "print('we would order the following two primers')\n",
        "print('The foward primer is: ' +Forward_primer)\n",
        "print('The reverse primer is: ' +Reverse_Primer)"
      ],
      "metadata": {
        "colab": {
          "base_uri": "https://localhost:8080/"
        },
        "id": "ROqquQoQjRRa",
        "outputId": "258671d8-7af1-4e4e-e59b-fbb2b4177e35"
      },
      "execution_count": 1,
      "outputs": [
        {
          "output_type": "stream",
          "name": "stdout",
          "text": [
            "EcoRI is GAATTC\n",
            "EcoRI reverse complement is : GAATTC\n",
            "Notice they are the same\n",
            "\n",
            "we would order the following two primers\n",
            "The foward primer is: GTTGTTGAATTCGCCACCATGGGGAAGGTGAAG\n",
            "The reverse primer is: GTTGTTGCGGCCGCTTACTCCTTGGAGGC\n"
          ]
        }
      ]
    },
    {
      "cell_type": "markdown",
      "source": [
        "# 5.3 qRT-PCR\n",
        "\n",
        "In a quantitative (q), Reverse Transcription (RT), Polymerase chain reaction (PCR), we are looking to quantify the transcript level of cells or tissues.\n",
        "\n"
      ],
      "metadata": {
        "id": "8jiEHmwH4BSn"
      }
    },
    {
      "cell_type": "markdown",
      "source": [
        "#5.3.1 Primer 3 Demonstration\n",
        "\n",
        "Use primer 3\n",
        "Find it here\n",
        "https://primer3.ut.ee/\n",
        "\n",
        "In the future, we can use the python version.\n",
        "\n",
        "Try designing a primer for your gene. See the example below:\n",
        "\n"
      ],
      "metadata": {
        "id": "JwBJPDxH9ImT"
      }
    },
    {
      "cell_type": "markdown",
      "source": [
        "##5.3.2 Example qRT-PCR primer design\n",
        "\n",
        "```\n",
        "GAPDH cDNA\n",
        "ATGGGGAAGGTGAAGGTCGGAGTCAACGGATTTGGTCGTATTGGGCGCCTGGTCACCAGGGCTGCTTTTAACTCTGGTAAAGTGGATATTGTTGCCATCAATGACCCCTTCATTGACCTCAACTACATGGTTTACATGTTCCAATATGATTCCACCCATGGCAAATTCCATGGCACCGTCAAGGCTGAGAACGGGAAGCTTGTCATCAATGGAAATCCCATCACCATCTTCCAGGAGCGAGATCCCTCCAAAATCAAGTGGGGCGATGCTGGCGCTGAGTACGTCGTGGAGTCCACTGGCGTCTTCACCACCATGGAGAAGGCTGGGGCTCATTTGCAGGGGGGAGCCAAAAGGGTCATCATCTCTGCCCCCTCTGCTGATGCCCCCATGTTCGTCATGGGTGTGAACCATGAGAAGTATGACAACAGCCTCAAGATCATCAGCAATGCCTCCTGCACCACCAACTGCTTAGCACCCCTGGCCAAGGTCATCCATGACAACTTTGGTATCGTGGAAGGACTCATGACCACAGTCCATGCCATCACTGCCACCCAGAAGACTGTGGATGGCCCCTCCGGGAAACTGTGGCGTGATGGCCGCGGGGCTCTCCAGAACATCATCCCTGCCTCTACTGGCGCTGCCAAGGCTGTGGGCAAGGTCATCCCTGAGCTGAACGGGAAGCTCACTGGCATGGCCTTCCGTGTCCCCACTGCCAACGTGTCAGTGGTGGACCTGACCTGCCGTCTAGAAAAACCTGCCAAATATGATGACATCAAGAAGGTGGTGAAGCAGGCGTCGGAGGGCCCCCTCAAGGGCATCCTGGGCTACACTGAGCACCAGGTGGTCTCCTCTGACTTCAACAGCGACACCCACTCCTCCACCTTTGACGCTGGGGCTGGCATTGCCCTCAACGACCACTTTGTCAAGCTCATTTCCTGGTATGACAACGAATTTGGCTACAGCAACAGGGTGGTGGACCTCATGGCCCACATGGCCTCCAAGGAGTAA\n",
        "```\n",
        "\n",
        "I'll drop this sequence into Primer3\n",
        "\n",
        "Use the human mispriming library\n",
        "\n",
        "In the product size ranges, choose 60-120. These are good sizes for qRT-PCR\n",
        "\n",
        "Notice that there are many other options. Feel free to explore these.\n",
        "\n",
        "Or you can click the 'pick primers' button. This will give you several options. Next we need to confirm that they are exon spanning.\n",
        "\n",
        "We want to make sure that our primers are exon spanning. This means that our exons go over exon junctions. There are a few ways we can do this. See the guide below for more information\n",
        "\n",
        "Option 1 - One of your primers exists in two exons\n",
        "Option 2 - Both primers are separated by an intron\n",
        "\n",
        "<img src=https://sfvideo.blob.core.windows.net/sitefinity/images/default-source/default-album/decoded-temp-image-storage/art52-fig1-new-schematic-request_maureen_v3.png width=\"600\">\n",
        "\n",
        "\n",
        "The image above is from this helpful guide:\n",
        "\n",
        "https://www.idtdna.com/pages/education/decoded/article/use-splice-junctions-to-your-advantage-in-qpcr\n",
        "\n",
        "\n",
        "My first attempt gave me:\n",
        "\n",
        "FWD: CAAATTCCATGGCACCGTCA\n",
        "\n",
        "REV: ATCGCCCCACTTGATTTTGG\n",
        "\n",
        "Aligned to the genome, I found the region here:\n",
        "chr12:6,536,710-6,536,956\n",
        "\n",
        "While these are technically exon-spanning, the intron is a little short\n",
        "\n",
        "The next set, primer1 spans across two exons. That could work. I had trouble finding the first primer with blat and had to add some sequence back for context. If your primer doesnt' show up, add some bases to either end to make it longer.\n",
        "\n",
        "FWD: CGTGGAAGGACTCATGACCA\n",
        "\n",
        "REV: ATGATGTTCTGGAGAGCCCC\n",
        "\n",
        "Try out several more!\n",
        "\n",
        "\n",
        "Here is the full list\n",
        "\n",
        "Primer | Start | len | tm | gc% | any_th | 3'th | hairpin | rep  | seq\n",
        "--- | ---  | --- | --- | --- | --- | --- | --- | --- | ---\n",
        "LEFT PRIMER | 510 | 20 | 59.39 | 55 | 5.24 | 1.03 | 0 | 12 | CGTGGAAGGACTCATGACCA\n",
        "RIGHT PRIMER | 620 | 20 | 59.16 | 55 | 0 | 0 | 0 | 11 | ATGATGTTCTGGAGAGCCCC\n",
        "LEFT PRIMER | 224 | 20 | 58.95 | 55 | 0 | 0 | 0 | 12 | CCATCTTCCAGGAGCGAGAT\n",
        "RIGHT PRIMER | 294 | 20 | 59.55 | 60 | 0 | 0 | 0 | 10 | GGACTCCACGACGTACTCAG\n",
        "LEFT PRIMER | 774 | 20 | 58.76 | 55 | 0 | 0 | 0 | 12 | CAAGAAGGTGGTGAAGCAGG\n",
        "RIGHT PRIMER | 873 | 19 | 59.06 | 57.89 | 0 | 0 | 0 | 11 | GTGGGTGTCGCTGTTGAAG\n",
        "LEFT PRIMER | 186 | 20 | 59.24 | 50 | 2.1 | 0 | 0 | 12 | TGAGAACGGGAAGCTTGTCA\n",
        "RIGHT PRIMER | 269 | 19 | 58.81 | 52.63 | 0 | 0 | 0 | 11 | GCATCGCCCCACTTGATTT"
      ],
      "metadata": {
        "id": "8-il8roB9erL"
      }
    },
    {
      "cell_type": "markdown",
      "source": [
        "# 5.4 qRT-PCR Data Analysis\n",
        "Let's import some data. This is pseduo data for the following experiment.\n",
        "\n",
        "We have a drug that we hypothesize will decrease angiogenesis (blood vessel growth). This may help treat tumors.\n",
        "\n",
        "After treating mice with either:\n",
        "\n",
        "A - placebo\n",
        "\n",
        "B - low dose\n",
        "\n",
        "C - high dose\n",
        "\n",
        "We want to know the effect.\n",
        "\n",
        "The data can be found here:\n",
        "\n",
        "https://raw.githubusercontent.com/chrisnelsonlab/BMEG4983/master/qPCR_pseudo.csv\n",
        "\n",
        "Does the drug have a statisically significant effect?\n",
        "\n",
        "We will use the delta-delta Ct method to analyze this data. This uses a control gene.\n"
      ],
      "metadata": {
        "id": "SRpnjILM4QQi"
      }
    },
    {
      "cell_type": "markdown",
      "source": [
        "## 5.5.1 Import data using Pandas"
      ],
      "metadata": {
        "id": "e9kW2L5Q4eGK"
      }
    },
    {
      "cell_type": "code",
      "source": [
        "from pandas.core.apply import GroupByApply\n",
        "from __future__ import print_function\n",
        "import pandas as pd\n",
        "pd.__version__\n",
        "\n",
        "\n",
        "#Read in sample data ##Note, correct name header\n",
        "qPCR_df = pd.read_csv(\"https://raw.githubusercontent.com/chrisnelsonlab/BMEG4983/master/qPCR_pseudo.csv\", sep=\",\")\n",
        "\n",
        "\n",
        "#First let's check to see if the technical replicates are similiar\n",
        "qPCR_df = qPCR_df.sort_values([\"Gene Target\", \"Treatment\", \"Biological replicate\"], ascending = (True, True, True))\n",
        "\n",
        "#Let's reset the index\n",
        "qPCR_df = qPCR_df.reset_index(drop=True)\n",
        "\n",
        "#A bar plot that shows all the values in a row. Because we sorted, the values\n",
        "#next to each other should be the technical replicates.\n",
        "qPCR_df.plot.bar(rot=0, y='Ct')\n",
        "#What we are looking for here is any crazy outliers from a bad sample.\n",
        "#Important: Do not discard data. If a technical replicate reads very high or\n",
        "#very low, that may be a reason to discard later, but always keep all data.\n",
        "\n",
        "#That was too busy, let's try just GAPDH\n",
        "qPCR_df.loc[qPCR_df['Gene Target']== 'GAPDH'].plot.bar(rot=0, y='Ct')\n",
        "\n",
        "#And now just VEGF\n",
        "qPCR_df.loc[qPCR_df['Gene Target']== 'VEGF'].plot.bar(rot=0, y='Ct')\n",
        "\n",
        "\n",
        "#Next, let's average the technical replicates.\n",
        "df_TR_avg = qPCR_df.groupby([\"Treatment\", \"Biological replicate\", \"Gene Target\"], as_index=False)[\"Ct\"].mean()\n",
        "\n",
        "# Rename Ct column for clarity\n",
        "df_TR_avg.rename(columns={\"Ct\": \"Ctmean\"}, inplace=True)\n",
        "\n",
        "# Display the resulting DataFrame\n",
        "print(df_TR_avg)\n",
        "\n",
        "#Now we need to get the average of the no treatment groups (Group A) for both genes\n",
        "\n",
        "# Filter for Treatment A\n",
        "df_A = df_TR_avg[df_TR_avg[\"Treatment\"] == \"A\"]\n",
        "\n",
        "#Only the three values for GAPDH\n",
        "ctmean_gapdh = df_A[df_A[\"Gene Target\"] == \"GAPDH\"][\"Ctmean\"]\n",
        "\n",
        "#only the three values for VEGF\n",
        "ctmean_vegf = df_A[df_A[\"Gene Target\"] == \"VEGF\"][\"Ctmean\"]\n",
        "\n",
        "GAPDHmean = ctmean_gapdh.mean()\n",
        "VEGFmean = ctmean_vegf.mean()\n",
        "\n",
        "\n",
        "print(f\"Average Ctmean for GAPDH in Treatment A: {GAPDHmean:.2f}\")\n",
        "print(f\"Average Ctmean for VEGF in Treatment A: {VEGFmean:.2f}\")\n",
        "\n",
        "delta_Cts = []\n",
        "for i in range(len(df_TR_avg)):\n",
        "  if(df_TR_avg.loc[i, 'Gene Target']=='VEGF'):\n",
        "    delta_Cts.append(df_TR_avg.loc[i, 'Ctmean']-VEGFmean)\n",
        "\n",
        "  elif(df_TR_avg.loc[i, 'Gene Target']=='GAPDH'):\n",
        "    delta_Cts.append(df_TR_avg.loc[i, 'Ctmean']-GAPDHmean)\n",
        "\n",
        "  else:\n",
        "    print('unexpected gene name')\n",
        "\n",
        "df_TR_avg['deltaCt'] = delta_Cts\n",
        "\n",
        "#Now for the delta delta Ct, we compare to the reference gene (in this case GAPDH)\n",
        "#Lets break up our dataframe into two by gene (probably should have done that at the beginning)\n",
        "grouped = df_TR_avg.groupby(df_TR_avg['Gene Target'])\n",
        "df_TR_avg_GAPDH = grouped.get_group(\"GAPDH\")\n",
        "df_TR_avg_GAPDH = df_TR_avg_GAPDH.reset_index(drop=True)\n",
        "\n",
        "df_TR_avg_VEGF = grouped.get_group(\"VEGF\")\n",
        "df_TR_avg_VEGF = df_TR_avg_VEGF.reset_index(drop=True)\n",
        "\n",
        "delta_delta_Cts = []\n",
        "fold_changes = []\n",
        "for i in range(len(df_TR_avg_VEGF)):\n",
        "  delta_delta_Cts.append(df_TR_avg_GAPDH.loc[i,'deltaCt']-df_TR_avg_VEGF.loc[i,'deltaCt'])\n",
        "  fold_changes.append(2**(df_TR_avg_GAPDH.loc[i,'deltaCt']-df_TR_avg_VEGF.loc[i,'deltaCt']))\n",
        "\n",
        "df_TR_avg_VEGF['ddCts']=delta_delta_Cts\n",
        "df_TR_avg_VEGF['Fold Change']=fold_changes\n",
        "\n"
      ],
      "metadata": {
        "colab": {
          "base_uri": "https://localhost:8080/",
          "height": 1000
        },
        "id": "TZ8HpBPbvroH",
        "outputId": "ec470fba-2754-4a08-e280-6e13297f5869"
      },
      "execution_count": 17,
      "outputs": [
        {
          "output_type": "stream",
          "name": "stdout",
          "text": [
            "   Treatment  Biological replicate Gene Target  Ctmean\n",
            "0          A                     1       GAPDH   16.10\n",
            "1          A                     1        VEGF   21.55\n",
            "2          A                     2       GAPDH   17.10\n",
            "3          A                     2        VEGF   22.25\n",
            "4          A                     3       GAPDH   16.35\n",
            "5          A                     3        VEGF   22.10\n",
            "6          B                     1       GAPDH   16.55\n",
            "7          B                     1        VEGF   23.90\n",
            "8          B                     2       GAPDH   16.75\n",
            "9          B                     2        VEGF   23.45\n",
            "10         B                     3       GAPDH   16.95\n",
            "11         B                     3        VEGF   24.75\n",
            "12         C                     1       GAPDH   17.20\n",
            "13         C                     1        VEGF   25.80\n",
            "14         C                     2       GAPDH   16.75\n",
            "15         C                     2        VEGF   25.80\n",
            "16         C                     3       GAPDH   16.55\n",
            "17         C                     3        VEGF   25.35\n",
            "stop here\n",
            "Average Ctmean for GAPDH in Treatment A: 16.52\n",
            "Average Ctmean for VEGF in Treatment A: 21.97\n"
          ]
        },
        {
          "output_type": "display_data",
          "data": {
            "text/plain": [
              "<Figure size 640x480 with 1 Axes>"
            ],
            "image/png": "[encoded data removed]"
          },
          "metadata": {}
        },
        {
          "output_type": "display_data",
          "data": {
            "text/plain": [
              "<Figure size 640x480 with 1 Axes>"
            ],
            "image/png": "[encoded data removed]"
          },
          "metadata": {}
        },
        {
          "output_type": "display_data",
          "data": {
            "text/plain": [
              "<Figure size 640x480 with 1 Axes>"
            ],
            "image/png": "[encoded data removed]"
          },
          "metadata": {}
        }
      ]
    },
    {
      "cell_type": "markdown",
      "source": [
        "## 5.5.2 Graphing data with seaborn"
      ],
      "metadata": {
        "id": "I3RwcUx14hGd"
      }
    },
    {
      "cell_type": "code",
      "source": [
        "#Now let's plot the fold change\n",
        "import seaborn as sns\n",
        "\n",
        "#sns.stripplot(x=df_TR_avg_VEGF['Treatment'], y=df_TR_avg_VEGF['Fold Change'], jitter=False)\n",
        "sns.stripplot(x=\"Treatment\", y=\"Fold Change\", data=df_TR_avg_VEGF)\n",
        "\n",
        "ax=sns.pointplot(x=\"Treatment\", y=\"Fold Change\", hue='Treatment',data=df_TR_avg_VEGF,linestyle='none',dodge=True)\n",
        "\n",
        "\n",
        "#And do some stats."
      ],
      "metadata": {
        "colab": {
          "base_uri": "https://localhost:8080/",
          "height": 449
        },
        "id": "xGUBhOb-6x33",
        "outputId": "b7a593eb-7d32-4496-9a78-d4c61eb1968a"
      },
      "execution_count": 18,
      "outputs": [
        {
          "output_type": "display_data",
          "data": {
            "text/plain": [
              "<Figure size 640x480 with 1 Axes>"
            ],
            "image/png": "[encoded data removed]"
          },
          "metadata": {}
        }
      ]
    },
    {
      "cell_type": "markdown",
      "source": [
        "## 5.5.3 Statistics"
      ],
      "metadata": {
        "id": "9vZJqwKv4i1R"
      }
    },
    {
      "cell_type": "code",
      "source": [
        "#If we do a t-test, Should we account for multiple comparisons?\n",
        "#Consider how you would accomplish this.\n",
        "\n",
        "#Consider using built in tools:\n",
        "#https://docs.scipy.org/doc/scipy/reference/generated/scipy.stats.ttest_ind.html"
      ],
      "metadata": {
        "id": "jSq1rhZe7iSI"
      },
      "execution_count": null,
      "outputs": []
    },
    {
      "cell_type": "markdown",
      "source": [
        "#5.6 Learning Check"
      ],
      "metadata": {
        "id": "hDRl3HBU33_o"
      }
    },
    {
      "cell_type": "code",
      "source": [
        "#@title Learning Check (input answers and hit play button)\n",
        "\n",
        "#@markdown Q1: I've been to Primer 3 and can design primers for a target gene\n",
        "answer1 = ' ' #@param [\" \",\"Yes\", \"No\"]\n",
        "\n",
        "#@markdown Q2: Ture/False, Primers should be on the same strand of DNA\n",
        "answer2 = ' ' #@param [\" \",\"True\", \"False\"]\n",
        "\n",
        "\n",
        "#@markdown Q3: Which side of the DNA is on the left when we write sequences\n",
        "\n",
        "#@markdown If your gene is running from right to left, don't forget to reverse complement\n",
        "answer3 = \" \" #@param [\" \",\"5'\", \"3'\"]\n",
        "\n",
        "\n",
        "#@markdown Q4: PCR can be used for:\n",
        "answer4 = ' ' #@param [\" \",\"analyzing gene expression\", \"finding viral copy number\",\"creating constructs for cloning\",\"All of the above\"]\n",
        "\n",
        "\n",
        "\n",
        "if (answer1 == \"Yes\"):\n",
        "  print('Q1: Good')\n",
        "else:\n",
        "  print('Q1: Go to genome browser!')\n",
        "\n",
        "if (answer2 == \"False\"):\n",
        "  print('Q2: Good')\n",
        "else:\n",
        "  print('Q2: One primer should be on the opposite strand')\n",
        "\n",
        "if (answer3 == \"5'\"):\n",
        "  print('Q3: Correct')\n",
        "else:\n",
        "  print('Q3: Incorrect')\n",
        "\n",
        "if (answer4 == \"All of the above\"):\n",
        "  print('Q4: Correct')\n",
        "else:\n",
        "  print('Q4: Incorrect, PCR is a very flexible technique')\n"
      ],
      "metadata": {
        "colab": {
          "base_uri": "https://localhost:8080/"
        },
        "cellView": "form",
        "id": "wys8Le6n5uwx",
        "outputId": "60aa22d2-2d13-47f3-ae44-9e7d0e8bb682"
      },
      "execution_count": null,
      "outputs": [
        {
          "output_type": "stream",
          "name": "stdout",
          "text": [
            "Q1: Good\n",
            "Q2: Good\n",
            "Q3: Incorrect\n",
            "Q4: Incorrect, PCR is a very flexible technique\n"
          ]
        }
      ]
    },
    {
      "cell_type": "markdown",
      "source": [
        "#5.7 Homework 5"
      ],
      "metadata": {
        "id": "WZtqiTRgtPWr"
      }
    },
    {
      "cell_type": "markdown",
      "source": [
        "## 5.7.1 Homework 5 Question 1\n",
        "Design qRT-PCR primers for your gene.\n",
        "Considerations:\n",
        "1. They should be exon spanning if possible\n",
        "2. They should make an amplicon between 60-120 bp.\n",
        "3. Use a human transcriptome as an off-priming search\n",
        "\n",
        "Example from TP53\n",
        "\n",
        "\n",
        "```\n",
        "forward\n",
        "5'-TGGCCATCTACAAGCAGTCA-3'\n",
        "reverse\n",
        "5'-ATAAGATGCTGAGGAGGGGC-3'\n",
        "```\n",
        "\n",
        "\n",
        "\n"
      ],
      "metadata": {
        "id": "3xEnkVKK_3dO"
      }
    },
    {
      "cell_type": "markdown",
      "source": [
        "## 5.7.2 Homework 5, Question 2\n",
        "\n",
        "What is the sequence created by your PCR primers above?\n",
        "Make sure not to include introns.\n",
        "\n",
        "Example answer from TP53\n",
        "```\n",
        ">Amplicon\n",
        "TGGCCATCTACAAGCAGTCAcagcacatgacggaggttgtgaggcgctgc\n",
        "ccccaccatgagcgctgctcagatagcgatggtctgGCCCCTCCTCAGCA\n",
        "TCTTAT\n",
        "```\n",
        "\n",
        "What is the size of the amplicon created?\n",
        "```\n",
        "106 bp\n",
        "```"
      ],
      "metadata": {
        "id": "BveyJ45vE2le"
      }
    },
    {
      "cell_type": "markdown",
      "source": [
        "## 5.7.3 Homework 5, Question 3\n",
        "CD44 isoform expression is dysregulated in cancer. You want to design qRT-PCR primers to differentiate between the two isoforms listed below.\n",
        "\n",
        "a.\thttps://www.ncbi.nlm.nih.gov/nuccore/NM_000610.4\n",
        "\n",
        "b.\thttps://www.ncbi.nlm.nih.gov/nuccore/NM_001001389.2\n",
        "\n",
        "How would you go about this? How can you tell the difference?\n",
        "```\n",
        "Answer\n",
        "```\n",
        "\n",
        "What primers would you use?\n",
        "```\n",
        "Primer set 1\n",
        "forward\n",
        "5'-SEQ-3'\n",
        "reverse\n",
        "5'-SEQ-3'\n",
        "\n",
        "Primer set 2\n",
        "forward\n",
        "5'-SEQ-3'\n",
        "reverse\n",
        "5'-SEQ-3'\n",
        "```\n",
        "\n",
        "```\n"
      ],
      "metadata": {
        "id": "QT--0Xt-1AAr"
      }
    },
    {
      "cell_type": "markdown",
      "source": [
        "### 5.7.4 Homework 5, Question 4\n",
        "\n",
        "You are designing a longitudinal experiment to test the longevity of your gene therapy approach. You collect the attached Cq values for your target gene and control genes based on three different treatment groups over time. Graph your results based on the ∆∆Ct method. Comment briefly on the results.  \n",
        "\n",
        "Data is available here:\n",
        "https://github.com/chrisnelsonlab/BMEG4983/blob/master/PS5_qPCR.csv\n",
        "\n",
        "Raw data here:\n",
        "\n",
        "https://raw.githubusercontent.com/chrisnelsonlab/BMEG4983/master/PS5_qPCR.csv\n",
        "\n",
        "FAQ: Time points are days\n",
        "\n",
        "Consider what you are comparing here. Treatment groups? Time points? Both?\n"
      ],
      "metadata": {
        "id": "afJ9uXKP1mf0"
      }
    },
    {
      "cell_type": "code",
      "source": [
        "#Placeholder code if you want to adapt code.\n",
        "#You can also use excel or your preferred method for data analysis"
      ],
      "metadata": {
        "id": "eXs5WIxu6_T1"
      },
      "execution_count": null,
      "outputs": []
    }
  ]
}